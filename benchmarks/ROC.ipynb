{
  "nbformat": 4,
  "nbformat_minor": 0,
  "metadata": {
    "kernelspec": {
      "display_name": "Python 2",
      "language": "python",
      "name": "python2"
    },
    "language_info": {
      "codemirror_mode": {
        "name": "ipython",
        "version": 2
      },
      "file_extension": ".py",
      "mimetype": "text/x-python",
      "name": "python",
      "nbconvert_exporter": "python",
      "pygments_lexer": "ipython2",
      "version": "2.7.16"
    },
    "colab": {
      "name": "ROC FINAL.ipynb",
      "provenance": []
    }
  },
  "cells": [
    {
      "cell_type": "code",
      "metadata": {
        "id": "pkCFs_cnxmHh",
        "colab_type": "code",
        "colab": {}
      },
      "source": [
        "import pandas as pd"
      ],
      "execution_count": null,
      "outputs": []
    },
    {
      "cell_type": "code",
      "metadata": {
        "id": "gMb-EfWS7BHG",
        "colab_type": "code",
        "colab": {}
      },
      "source": [
        "from google.colab import drive \n",
        "drive.mount('/content/drive',force_remount=True)"
      ],
      "execution_count": null,
      "outputs": []
    },
    {
      "cell_type": "code",
      "metadata": {
        "id": "KCMcsdKvxmHp",
        "colab_type": "code",
        "colab": {}
      },
      "source": [
        "df = pd.read_csv(r\"/content/drive/My Drive/dataset.csv\")"
      ],
      "execution_count": null,
      "outputs": []
    },
    {
      "cell_type": "code",
      "metadata": {
        "id": "YZqZopxqxmHw",
        "colab_type": "code",
        "colab": {}
      },
      "source": [
        "import numpy as np"
      ],
      "execution_count": null,
      "outputs": []
    },
    {
      "cell_type": "code",
      "metadata": {
        "id": "AaRckKhKxmH1",
        "colab_type": "code",
        "colab": {}
      },
      "source": [
        "df = df.iloc[:,[0,1]]"
      ],
      "execution_count": null,
      "outputs": []
    },
    {
      "cell_type": "code",
      "metadata": {
        "id": "GZBuZuKhxmH6",
        "colab_type": "code",
        "colab": {}
      },
      "source": [
        "df.head()"
      ],
      "execution_count": null,
      "outputs": []
    },
    {
      "cell_type": "code",
      "metadata": {
        "id": "nGynVRE1xmIA",
        "colab_type": "code",
        "colab": {}
      },
      "source": [
        "df.shape"
      ],
      "execution_count": null,
      "outputs": []
    },
    {
      "cell_type": "code",
      "metadata": {
        "id": "gHq35xK-xmIF",
        "colab_type": "code",
        "colab": {}
      },
      "source": [
        "dff = df.drop(['Label'], axis = 1)"
      ],
      "execution_count": null,
      "outputs": []
    },
    {
      "cell_type": "code",
      "metadata": {
        "id": "ETzR1_y_xmIL",
        "colab_type": "code",
        "colab": {}
      },
      "source": [
        "dff.head()"
      ],
      "execution_count": null,
      "outputs": []
    },
    {
      "cell_type": "code",
      "metadata": {
        "id": "XWtNHGuFxmIS",
        "colab_type": "code",
        "colab": {}
      },
      "source": [
        "from sklearn.model_selection import train_test_split\n",
        "X_temp, X_test, y_temp, y_test = train_test_split(dff, list(df.Label), test_size=0.1)"
      ],
      "execution_count": null,
      "outputs": []
    },
    {
      "cell_type": "code",
      "metadata": {
        "id": "xxWKT09MxmIZ",
        "colab_type": "code",
        "colab": {}
      },
      "source": [
        "X_test.shape"
      ],
      "execution_count": null,
      "outputs": []
    },
    {
      "cell_type": "code",
      "metadata": {
        "id": "SXPo9xaPxmIg",
        "colab_type": "code",
        "colab": {}
      },
      "source": [
        "X_temp.shape"
      ],
      "execution_count": null,
      "outputs": []
    },
    {
      "cell_type": "code",
      "metadata": {
        "id": "rMOsETIQxmIl",
        "colab_type": "code",
        "colab": {}
      },
      "source": [
        "len(y_test)"
      ],
      "execution_count": null,
      "outputs": []
    },
    {
      "cell_type": "code",
      "metadata": {
        "id": "79ua1VknxmIq",
        "colab_type": "code",
        "colab": {}
      },
      "source": [
        "type(y_temp)"
      ],
      "execution_count": null,
      "outputs": []
    },
    {
      "cell_type": "code",
      "metadata": {
        "id": "BDb-XMclxmI1",
        "colab_type": "code",
        "colab": {}
      },
      "source": [
        "X_temp['label'] = y_temp"
      ],
      "execution_count": null,
      "outputs": []
    },
    {
      "cell_type": "code",
      "metadata": {
        "id": "8MLqpLvFxmI5",
        "colab_type": "code",
        "colab": {}
      },
      "source": [
        "X_temp.head()"
      ],
      "execution_count": null,
      "outputs": []
    },
    {
      "cell_type": "code",
      "metadata": {
        "id": "Lp2CZtedxmJA",
        "colab_type": "code",
        "colab": {}
      },
      "source": [
        "X_temp.label[2] "
      ],
      "execution_count": null,
      "outputs": []
    },
    {
      "cell_type": "code",
      "metadata": {
        "id": "l9po25F7xmJH",
        "colab_type": "code",
        "colab": {}
      },
      "source": [
        "type(X_temp)"
      ],
      "execution_count": null,
      "outputs": []
    },
    {
      "cell_type": "code",
      "metadata": {
        "id": "fNbGuTpKxmJN",
        "colab_type": "code",
        "colab": {}
      },
      "source": [
        "nonhate = X_temp[X_temp['label'] == 0]"
      ],
      "execution_count": null,
      "outputs": []
    },
    {
      "cell_type": "code",
      "metadata": {
        "id": "IOOy2O04xmJT",
        "colab_type": "code",
        "colab": {}
      },
      "source": [
        "nonhate.head()"
      ],
      "execution_count": null,
      "outputs": []
    },
    {
      "cell_type": "code",
      "metadata": {
        "id": "fLzQluWZxmJY",
        "colab_type": "code",
        "colab": {}
      },
      "source": [
        "hate = X_temp[X_temp.label == 1]"
      ],
      "execution_count": null,
      "outputs": []
    },
    {
      "cell_type": "code",
      "metadata": {
        "id": "_2yVmQrqxmJc",
        "colab_type": "code",
        "colab": {}
      },
      "source": [
        "hate.shape[0]"
      ],
      "execution_count": null,
      "outputs": []
    },
    {
      "cell_type": "code",
      "metadata": {
        "id": "y1qBiv91xmJh",
        "colab_type": "code",
        "colab": {}
      },
      "source": [
        "nonhatesample = nonhate.sample(n = hate.shape[0],replace=True)"
      ],
      "execution_count": null,
      "outputs": []
    },
    {
      "cell_type": "code",
      "metadata": {
        "id": "FM3JOGorxmJl",
        "colab_type": "code",
        "colab": {}
      },
      "source": [
        "nonhatesample.head()"
      ],
      "execution_count": null,
      "outputs": []
    },
    {
      "cell_type": "code",
      "metadata": {
        "id": "uXVkXAXuxmJq",
        "colab_type": "code",
        "colab": {}
      },
      "source": [
        "nonhatesample.shape"
      ],
      "execution_count": null,
      "outputs": []
    },
    {
      "cell_type": "code",
      "metadata": {
        "id": "X-GcBz10xmJx",
        "colab_type": "code",
        "colab": {}
      },
      "source": [
        "ds = pd.concat([hate, nonhatesample], axis = 0)"
      ],
      "execution_count": null,
      "outputs": []
    },
    {
      "cell_type": "code",
      "metadata": {
        "id": "zmrkpCsJxmJ2",
        "colab_type": "code",
        "colab": {}
      },
      "source": [
        "ds.tail()"
      ],
      "execution_count": null,
      "outputs": []
    },
    {
      "cell_type": "code",
      "metadata": {
        "id": "3j140r9MxmJ6",
        "colab_type": "code",
        "colab": {}
      },
      "source": [
        "ds.shape"
      ],
      "execution_count": null,
      "outputs": []
    },
    {
      "cell_type": "code",
      "metadata": {
        "id": "yWBwbnOmxmJ_",
        "colab_type": "code",
        "colab": {}
      },
      "source": [
        "ds.to_csv(r\"/content/drive/My Drive/dataset1.csv\")"
      ],
      "execution_count": null,
      "outputs": []
    },
    {
      "cell_type": "code",
      "metadata": {
        "id": "nb2FDlZYxmKD",
        "colab_type": "code",
        "colab": {}
      },
      "source": [
        "ds = pd.read_csv(r\"/content/drive/My Drive/dataset1.csv\")"
      ],
      "execution_count": null,
      "outputs": []
    },
    {
      "cell_type": "code",
      "metadata": {
        "id": "Z8mGBH0FxmKH",
        "colab_type": "code",
        "colab": {}
      },
      "source": [
        "ds.head()"
      ],
      "execution_count": null,
      "outputs": []
    },
    {
      "cell_type": "code",
      "metadata": {
        "id": "JzkVrif1xmKL",
        "colab_type": "code",
        "colab": {}
      },
      "source": [
        "ds_temp = ds"
      ],
      "execution_count": null,
      "outputs": []
    },
    {
      "cell_type": "code",
      "metadata": {
        "id": "9cHF8pgPxmKR",
        "colab_type": "code",
        "colab": {}
      },
      "source": [
        "testdf = X_test\n",
        "testdf['label'] = y_test"
      ],
      "execution_count": null,
      "outputs": []
    },
    {
      "cell_type": "code",
      "metadata": {
        "id": "AWT84baxxmKV",
        "colab_type": "code",
        "colab": {}
      },
      "source": [
        "testdf.shape"
      ],
      "execution_count": null,
      "outputs": []
    },
    {
      "cell_type": "code",
      "metadata": {
        "id": "Ih3UPUMCxmKa",
        "colab_type": "code",
        "colab": {}
      },
      "source": [
        "ds = pd.concat([ds_temp, testdf], axis = 0)"
      ],
      "execution_count": null,
      "outputs": []
    },
    {
      "cell_type": "code",
      "metadata": {
        "id": "E26vmDGmxmKd",
        "colab_type": "code",
        "colab": {}
      },
      "source": [
        "ds.head()"
      ],
      "execution_count": null,
      "outputs": []
    },
    {
      "cell_type": "code",
      "metadata": {
        "id": "qdXTTJOFxmKh",
        "colab_type": "code",
        "colab": {}
      },
      "source": [
        "ds.shape"
      ],
      "execution_count": null,
      "outputs": []
    },
    {
      "cell_type": "code",
      "metadata": {
        "id": "3UmzHL1ExmKn",
        "colab_type": "code",
        "colab": {}
      },
      "source": [
        "testdf.head()"
      ],
      "execution_count": null,
      "outputs": []
    },
    {
      "cell_type": "code",
      "metadata": {
        "id": "1SBFcGg4xmKs",
        "colab_type": "code",
        "colab": {}
      },
      "source": [
        "list(testdf.index)"
      ],
      "execution_count": null,
      "outputs": []
    },
    {
      "cell_type": "code",
      "metadata": {
        "id": "kBg9SFLNxmKw",
        "colab_type": "code",
        "colab": {}
      },
      "source": [
        "corpus = []\n",
        "for i in range(ds.shape[0]):\n",
        "    corpus.append(ds.iloc[i][0])"
      ],
      "execution_count": null,
      "outputs": []
    },
    {
      "cell_type": "code",
      "metadata": {
        "id": "g3iMTvBFxmK1",
        "colab_type": "code",
        "colab": {}
      },
      "source": [
        "corpus"
      ],
      "execution_count": null,
      "outputs": []
    },
    {
      "cell_type": "code",
      "metadata": {
        "id": "yBHvBxApxmK5",
        "colab_type": "code",
        "colab": {}
      },
      "source": [
        "from sklearn.feature_extraction.text import TfidfVectorizer"
      ],
      "execution_count": null,
      "outputs": []
    },
    {
      "cell_type": "code",
      "metadata": {
        "id": "dAM2cTLfxmK_",
        "colab_type": "code",
        "colab": {}
      },
      "source": [
        "vectorizer = TfidfVectorizer()\n",
        "X = vectorizer.fit_transform(corpus)\n",
        "feature_names = vectorizer.get_feature_names()\n",
        "dense = X.todense()\n",
        "denselist = dense.tolist()\n",
        "df2 = pd.DataFrame(denselist, columns=feature_names)\n",
        "df2"
      ],
      "execution_count": null,
      "outputs": []
    },
    {
      "cell_type": "code",
      "metadata": {
        "id": "5Dpj2yKzxmLD",
        "colab_type": "code",
        "colab": {}
      },
      "source": [
        "tdf = df2\n",
        "tdf['labelxyz'] = list(ds.label)"
      ],
      "execution_count": null,
      "outputs": []
    },
    {
      "cell_type": "code",
      "metadata": {
        "id": "-yX7cKfNxmLJ",
        "colab_type": "code",
        "colab": {}
      },
      "source": [
        "tdf.tail()"
      ],
      "execution_count": null,
      "outputs": []
    },
    {
      "cell_type": "code",
      "metadata": {
        "id": "csnVw_r3xmLQ",
        "colab_type": "code",
        "colab": {}
      },
      "source": [
        "tdf_hate = tdf[tdf.labelxyz == 1]"
      ],
      "execution_count": null,
      "outputs": []
    },
    {
      "cell_type": "code",
      "metadata": {
        "id": "6ct-rO29xmLc",
        "colab_type": "code",
        "colab": {}
      },
      "source": [
        "tdf_hate.shape"
      ],
      "execution_count": null,
      "outputs": []
    },
    {
      "cell_type": "code",
      "metadata": {
        "id": "7ggXKjKCxmLh",
        "colab_type": "code",
        "colab": {}
      },
      "source": [
        "tdf_nonhate = tdf[tdf.labelxyz == 0]"
      ],
      "execution_count": null,
      "outputs": []
    },
    {
      "cell_type": "code",
      "metadata": {
        "id": "wj6cySA9xmLm",
        "colab_type": "code",
        "colab": {}
      },
      "source": [
        "tdf_nonhate.shape"
      ],
      "execution_count": null,
      "outputs": []
    },
    {
      "cell_type": "code",
      "metadata": {
        "id": "cc1_BTS2xmLp",
        "colab_type": "code",
        "colab": {}
      },
      "source": [
        "X_train_hate = tdf_hate.sample(frac=0.9, random_state=0)"
      ],
      "execution_count": null,
      "outputs": []
    },
    {
      "cell_type": "code",
      "metadata": {
        "id": "QDb6G76oxmLt",
        "colab_type": "code",
        "colab": {}
      },
      "source": [
        "X_test_hate = tdf_hate.drop(X_train_hate.index)"
      ],
      "execution_count": null,
      "outputs": []
    },
    {
      "cell_type": "code",
      "metadata": {
        "id": "E2ycxkOWxmLx",
        "colab_type": "code",
        "colab": {}
      },
      "source": [
        "X_train_nonhate =  tdf_nonhate.sample(frac=0.406, random_state=0)"
      ],
      "execution_count": null,
      "outputs": []
    },
    {
      "cell_type": "code",
      "metadata": {
        "id": "uE6c3mK_xmL0",
        "colab_type": "code",
        "colab": {}
      },
      "source": [
        "X_test_nonhate = tdf_nonhate.drop(X_train_nonhate.index)"
      ],
      "execution_count": null,
      "outputs": []
    },
    {
      "cell_type": "code",
      "metadata": {
        "id": "h8qBrZObxmL8",
        "colab_type": "code",
        "colab": {}
      },
      "source": [
        "X_train_df = pd.concat([X_train_hate, X_train_nonhate], axis = 0)"
      ],
      "execution_count": null,
      "outputs": []
    },
    {
      "cell_type": "code",
      "metadata": {
        "id": "c1rg9t8txmMD",
        "colab_type": "code",
        "colab": {}
      },
      "source": [
        "X_train = X_train_df.drop(['labelxyz'], axis = 1)"
      ],
      "execution_count": null,
      "outputs": []
    },
    {
      "cell_type": "code",
      "metadata": {
        "id": "7RrtI5fexmMJ",
        "colab_type": "code",
        "colab": {}
      },
      "source": [
        "y_train = list(X_train_df.labelxyz)"
      ],
      "execution_count": null,
      "outputs": []
    },
    {
      "cell_type": "code",
      "metadata": {
        "id": "-zD-4s1DxmMP",
        "colab_type": "code",
        "colab": {}
      },
      "source": [
        "X_test_df = pd.concat([X_test_hate, X_test_nonhate], axis = 0)"
      ],
      "execution_count": null,
      "outputs": []
    },
    {
      "cell_type": "code",
      "metadata": {
        "id": "Mp-68yKZxmMT",
        "colab_type": "code",
        "colab": {}
      },
      "source": [
        "X_test = X_test_df.drop(['labelxyz'], axis = 1)"
      ],
      "execution_count": null,
      "outputs": []
    },
    {
      "cell_type": "code",
      "metadata": {
        "id": "kgMjfXhOxmMa",
        "colab_type": "code",
        "colab": {}
      },
      "source": [
        "y_test = list(X_test_df.labelxyz)"
      ],
      "execution_count": null,
      "outputs": []
    },
    {
      "cell_type": "code",
      "metadata": {
        "id": "80P_poxrxmMe",
        "colab_type": "code",
        "colab": {}
      },
      "source": [
        "from sklearn.linear_model import LogisticRegression\n",
        "from sklearn.naive_bayes import GaussianNB\n"
      ],
      "execution_count": null,
      "outputs": []
    },
    {
      "cell_type": "code",
      "metadata": {
        "id": "pRHamn0SxmMi",
        "colab_type": "code",
        "colab": {}
      },
      "source": [
        "\n",
        "from sklearn.model_selection import cross_val_score\n",
        "\n",
        "log_reg = LogisticRegression()\n",
        "log_scores = cross_val_score(log_reg, X_train, y_train, cv=3)\n",
        "log_reg_mean = log_scores.mean()\n",
        "\n",
        "nav_clf = GaussianNB()\n",
        "nav_scores = cross_val_score(nav_clf, X_train, y_train, cv=3)\n",
        "nav_mean = nav_scores.mean()\n",
        "\n",
        "d = {'Classifiers': ['Logistic Reg.', 'Naives Bayes'], \n",
        "    'Crossval Mean Scores': [log_reg_mean, nav_mean]}\n",
        "\n",
        "result_df = pd.DataFrame(data=d)"
      ],
      "execution_count": null,
      "outputs": []
    },
    {
      "cell_type": "code",
      "metadata": {
        "id": "tHpAOiWwxmMm",
        "colab_type": "code",
        "colab": {}
      },
      "source": [
        "result_df"
      ],
      "execution_count": null,
      "outputs": []
    },
    {
      "cell_type": "code",
      "metadata": {
        "id": "ezhZP9dDxmMs",
        "colab_type": "code",
        "colab": {}
      },
      "source": [
        "from sklearn.metrics import accuracy_score\n",
        "nav_clf = GaussianNB()\n",
        "nav_clf.fit(X_train, y_train)\n",
        "predict_nav = nav_clf.predict(X_test)\n",
        "accuracy_score(y_test, predict_nav)"
      ],
      "execution_count": null,
      "outputs": []
    },
    {
      "cell_type": "code",
      "metadata": {
        "id": "bjp_7oiFxmMx",
        "colab_type": "code",
        "colab": {}
      },
      "source": [
        "from sklearn.metrics import confusion_matrix\n",
        "confusion_matrix(y_test, predict_nav)"
      ],
      "execution_count": null,
      "outputs": []
    },
    {
      "cell_type": "code",
      "metadata": {
        "id": "_atNDMRExmM1",
        "colab_type": "code",
        "colab": {}
      },
      "source": [
        "log_reg = LogisticRegression()\n",
        "log_reg.fit(X_train, y_train)\n",
        "predict_log = log_reg.predict(X_test)\n",
        "accuracy_score(y_test, predict_log)"
      ],
      "execution_count": null,
      "outputs": []
    },
    {
      "cell_type": "code",
      "metadata": {
        "id": "Qa6pu-OZxmM4",
        "colab_type": "code",
        "colab": {}
      },
      "source": [
        "from sklearn.metrics import confusion_matrix\n",
        "confusion_matrix(y_test, predict_log)"
      ],
      "execution_count": null,
      "outputs": []
    },
    {
      "cell_type": "code",
      "metadata": {
        "id": "sWrWClxGxmM9",
        "colab_type": "code",
        "colab": {}
      },
      "source": [
        "log_reg.fit(X_train, y_train)\n",
        "decisions = (log_reg.predict_proba(X_test) >= 0.5).astype(int)"
      ],
      "execution_count": null,
      "outputs": []
    },
    {
      "cell_type": "code",
      "metadata": {
        "id": "bZbOZ1-YxmNA",
        "colab_type": "code",
        "colab": {}
      },
      "source": [
        "tp = []\n",
        "tn = []\n",
        "overall_acc = []\n",
        "for i in range(100):\n",
        "    threshold = (i+1)/100\n",
        "    decisions = (log_reg.predict_proba(X_test) >= threshold).astype(int)\n",
        "    p = []\n",
        "    for j in range(len(y_test)):\n",
        "        p.append(1 - decisions[j][0])\n",
        "    conf = confusion_matrix(y_test,p)\n",
        "    tp.append(conf[0][0]/(conf[0][0] + conf[0][1]))\n",
        "    tn.append(conf[1][1]/(conf[1][1] + conf[1][0]))\n",
        "    overall_acc.append((conf[0][0] + conf[1][1])/len(y_test))"
      ],
      "execution_count": null,
      "outputs": []
    },
    {
      "cell_type": "code",
      "metadata": {
        "id": "IAHdfiVRxmNE",
        "colab_type": "code",
        "colab": {}
      },
      "source": [
        "import matplotlib.pyplot as plt"
      ],
      "execution_count": null,
      "outputs": []
    },
    {
      "cell_type": "code",
      "metadata": {
        "id": "Al9ZOaVTxmNH",
        "colab_type": "code",
        "colab": {}
      },
      "source": [
        "import numpy as np\n",
        "thresh = list(np.linspace(0.01,1,100))\n",
        "plt.plot(thresh,tp,color='green')\n",
        "plt.plot(thresh, tn, color='red')\n",
        "plt.plot(thresh, overall_acc, color='black')\n",
        "plt.axvline(0.52)\n",
        "plt.axvline(0.5, linestyle='dashed')"
      ],
      "execution_count": null,
      "outputs": []
    },
    {
      "cell_type": "code",
      "metadata": {
        "id": "c0yf927MxmNM",
        "colab_type": "code",
        "colab": {}
      },
      "source": [
        "from sklearn.ensemble import RandomForestClassifier"
      ],
      "execution_count": null,
      "outputs": []
    },
    {
      "cell_type": "code",
      "metadata": {
        "id": "VLuzHqo_xmNT",
        "colab_type": "code",
        "colab": {}
      },
      "source": [
        "rand_clf = RandomForestClassifier()\n",
        "rand_clf.fit(X_train, y_train)\n",
        "predict = rand_clf.predict(X_test)\n",
        "accuracy_score(y_test, predict)"
      ],
      "execution_count": null,
      "outputs": []
    },
    {
      "cell_type": "code",
      "metadata": {
        "id": "5RJP44j1xmNW",
        "colab_type": "code",
        "colab": {}
      },
      "source": [
        "confusion_matrix(y_test, predict)"
      ],
      "execution_count": null,
      "outputs": []
    },
    {
      "cell_type": "code",
      "metadata": {
        "id": "YLCxgn-GxmNa",
        "colab_type": "code",
        "colab": {}
      },
      "source": [
        "from sklearn import tree\n",
        "dt_clf = tree.DecisionTreeClassifier()\n",
        "dt_clf.fit(X_train, y_train)\n",
        "predict_dt = dt_clf.predict(X_test)\n",
        "accuracy_score(y_test, predict_dt)"
      ],
      "execution_count": null,
      "outputs": []
    },
    {
      "cell_type": "code",
      "metadata": {
        "id": "SGtcYlEZxmNd",
        "colab_type": "code",
        "colab": {}
      },
      "source": [
        "confusion_matrix(y_test, predict_dt)"
      ],
      "execution_count": null,
      "outputs": []
    },
    {
      "cell_type": "code",
      "metadata": {
        "id": "UVgycqrVxmNi",
        "colab_type": "code",
        "colab": {}
      },
      "source": [
        "from sklearn.ensemble import GradientBoostingClassifier\n",
        "grad_clf = GradientBoostingClassifier()\n",
        "grad_clf.fit(X_train, y_train)\n",
        "predict_grad = grad_clf.predict(X_test)\n",
        "accuracy_score(y_test, predict_grad)"
      ],
      "execution_count": null,
      "outputs": []
    },
    {
      "cell_type": "code",
      "metadata": {
        "id": "E3ZtZ5rwxmNl",
        "colab_type": "code",
        "colab": {}
      },
      "source": [
        "confusion_matrix(y_test, predict_grad)"
      ],
      "execution_count": null,
      "outputs": []
    },
    {
      "cell_type": "code",
      "metadata": {
        "id": "b7yB7xRVxmNq",
        "colab_type": "code",
        "colab": {}
      },
      "source": [
        "decisions = (log_reg.predict_proba(X_test) >= 0.5).astype(int)\n",
        "p = []\n",
        "for j in range(len(y_test)):\n",
        "    p.append(1 - decisions[j][0])"
      ],
      "execution_count": null,
      "outputs": []
    },
    {
      "cell_type": "code",
      "metadata": {
        "id": "1NKod3aKxmNu",
        "colab_type": "code",
        "colab": {}
      },
      "source": [
        "from sklearn.metrics import roc_curve\n",
        "from sklearn.metrics import roc_auc_score\n",
        "\n",
        "print('Logistic Regression Score: ', roc_auc_score(y_test, p))\n",
        "print('Naive Bayes Score: ', roc_auc_score(y_test, predict_nav))\n",
        "print('Random Forest Score: ', roc_auc_score(y_test, predict))\n",
        "print('Decision Tree Score: ', roc_auc_score(y_test, predict_dt))\n",
        "print('Grad Boosting Score: ', roc_auc_score(y_test, predict_grad))\n",
        "\n"
      ],
      "execution_count": null,
      "outputs": []
    },
    {
      "cell_type": "code",
      "metadata": {
        "id": "IagBGdhbxmNz",
        "colab_type": "code",
        "colab": {}
      },
      "source": [
        "from sklearn.metrics import roc_curve\n",
        "\n",
        "log_fpr, log_tpr, threshold = roc_curve(y_test,p)\n",
        "nav_fpr, nav_tpr, threshold = roc_curve(y_test, predict_nav)\n",
        "rand_fpr, rand_tpr, thresold = roc_curve(y_test, predict)\n",
        "dt_fpr, dt_tpr, threshold = roc_curve(y_test, predict_dt)\n",
        "grad_fpr, grad_tpr, threshold = roc_curve(y_test, predict_grad)\n",
        "\n",
        "#nav_fpr, nav_tpr, nav_threshold = roc_curve(y_train, naives_y_scores)"
      ],
      "execution_count": null,
      "outputs": []
    },
    {
      "cell_type": "code",
      "metadata": {
        "id": "jZKZUitmxmN3",
        "colab_type": "code",
        "colab": {}
      },
      "source": [
        "def graph_roc_curve_multiple(rand_fpr, rand_tpr, nav_fpr, nav_tpr,grad_fpr, grad_tpr, log_fpr, log_tpr, dt_fpr, dt_tpr):\n",
        "    plt.figure(figsize=(8,6))\n",
        "    plt.title('ROC Curve \\n Classifiers', fontsize=18)\n",
        "    plt.plot(rand_fpr, rand_tpr, label='random forest')\n",
        "    plt.plot(nav_fpr, nav_tpr, label='Naive Bayes')\n",
        "    plt.plot(grad_fpr, grad_tpr, label='Gradient Boosting')\n",
        "    plt.plot(log_fpr, log_tpr, label='Logistic Regression')\n",
        "    plt.plot(dt_fpr, dt_tpr, label='decision tree')\n",
        "    plt.plot([0, 1], [0, 1], 'k--')\n",
        "    plt.axis([0, 1, 0, 1])\n",
        "    plt.xlabel('False Positive Rate', fontsize=16)\n",
        "    plt.ylabel('True Positive Rate', fontsize=16)\n",
        "    plt.annotate('Minimum ROC Score of 50% \\n (This is the minimum score to get)', xy=(0.5, 0.5), xytext=(0.6, 0.3),\n",
        "                arrowprops=dict(facecolor='#6E726D', shrink=0.05),\n",
        "                )\n",
        "    plt.legend()\n",
        "    \n",
        "graph_roc_curve_multiple(rand_fpr, rand_tpr, nav_fpr, nav_tpr,grad_fpr, grad_tpr, log_fpr, log_tpr, dt_fpr, dt_tpr)\n",
        "plt.show()"
      ],
      "execution_count": null,
      "outputs": []
    },
    {
      "cell_type": "code",
      "metadata": {
        "id": "c8Fqir1wxmN5",
        "colab_type": "code",
        "colab": {}
      },
      "source": [
        "\n",
        "#simple bow\n",
        "#bow with 100 words\n",
        "#bigram+tfidf\n",
        "#rocauc"
      ],
      "execution_count": null,
      "outputs": []
    },
    {
      "cell_type": "code",
      "metadata": {
        "id": "fDyFxNNAxmN8",
        "colab_type": "code",
        "colab": {}
      },
      "source": [
        "words = []\n",
        "for k in range(len(corpus)):\n",
        "    tweet_k = corpus[k].split(\" \")\n",
        "    for m in range(len(tweet_k)):\n",
        "        words.append(tweet_k[m])\n",
        "from collections import Counter\n",
        "counter_obj = Counter(words)\n",
        "top100 = counter_obj.most_common(1000)\n",
        "top100words = []\n",
        "for i in range(len(top100)):\n",
        "    top100words.append(top100[i][0])"
      ],
      "execution_count": null,
      "outputs": []
    },
    {
      "cell_type": "code",
      "metadata": {
        "id": "SZ04pgbJxmN_",
        "colab_type": "code",
        "colab": {}
      },
      "source": [
        "tdftop = df2\n",
        "lst3 = [value for value in list(tdftop.columns) if value in top100words] \n",
        "tdf100 = tdftop[lst3]\n",
        "tdf100['labelxyz'] = list(ds.label)\n",
        "tdf_hate = tdf100[tdf100.labelxyz == 1]\n",
        "tdf_nonhate = tdf100[tdf100.labelxyz == 0]\n",
        "X_train_hate = tdf_hate.sample(frac=0.9, random_state=0)\n",
        "X_test_hate = tdf_hate.drop(X_train_hate.index)\n",
        "X_train_nonhate =  tdf_nonhate.sample(frac=0.406, random_state=0)\n",
        "X_test_nonhate = tdf_nonhate.drop(X_train_nonhate.index)\n",
        "X_train_df = pd.concat([X_train_hate, X_train_nonhate], axis = 0)\n",
        "X_train = X_train_df.drop(['labelxyz'], axis = 1)\n",
        "y_train = list(X_train_df.labelxyz)\n",
        "X_test_df = pd.concat([X_test_hate, X_test_nonhate], axis = 0)\n",
        "X_test = X_test_df.drop(['labelxyz'], axis = 1)\n",
        "y_test = list(X_test_df.labelxyz)"
      ],
      "execution_count": null,
      "outputs": []
    },
    {
      "cell_type": "code",
      "metadata": {
        "id": "_QqCa1zFxmOF",
        "colab_type": "code",
        "colab": {}
      },
      "source": [
        "from sklearn.linear_model import LogisticRegression\n",
        "from sklearn.naive_bayes import GaussianNB\n",
        "from sklearn.metrics import confusion_matrix\n",
        "log_reg =  LogisticRegression()\n",
        "\n",
        "log_reg.fit(X_train, y_train)\n",
        "tp = []\n",
        "tn = []\n",
        "overall_acc = []\n",
        "for i in range(100):\n",
        "    threshold = (i+1)/100\n",
        "    decisions = (log_reg.predict_proba(X_test) >= threshold).astype(int)\n",
        "    p = []\n",
        "    for j in range(len(y_test)):\n",
        "        p.append(1 - decisions[j][0])\n",
        "    conf = confusion_matrix(y_test,p)\n",
        "    tp.append(conf[0][0]/(conf[0][0] + conf[0][1]))\n",
        "    tn.append(conf[1][1]/(conf[1][1] + conf[1][0]))\n",
        "    overall_acc.append((conf[0][0] + conf[1][1])/len(y_test))"
      ],
      "execution_count": null,
      "outputs": []
    },
    {
      "cell_type": "code",
      "metadata": {
        "id": "DlP0pEA3xmOI",
        "colab_type": "code",
        "colab": {}
      },
      "source": [
        "import matplotlib.pyplot as plt\n",
        "import numpy as np\n",
        "thresh = list(np.linspace(0.01,1,100))\n",
        "plt.plot(thresh,tp,color='green')\n",
        "plt.plot(thresh, tn, color='red')\n",
        "plt.plot(thresh, overall_acc, color='black')\n",
        "plt.axvline(0.6)\n",
        "plt.axvline(0.5, linestyle='dashed')"
      ],
      "execution_count": null,
      "outputs": []
    },
    {
      "cell_type": "code",
      "metadata": {
        "id": "uzyC-M_PxmOL",
        "colab_type": "code",
        "colab": {}
      },
      "source": [
        "plt.show()"
      ],
      "execution_count": null,
      "outputs": []
    },
    {
      "cell_type": "code",
      "metadata": {
        "id": "wPu-uLQCxmOO",
        "colab_type": "code",
        "colab": {}
      },
      "source": [
        "#other models\n",
        "from sklearn.metrics import accuracy_score\n",
        "nav_clf.fit(X_train, y_train)\n",
        "predict_nav = nav_clf.predict(X_test)\n",
        "print('naive bayes')\n",
        "print(accuracy_score(y_test, predict_nav))\n",
        "from sklearn.metrics import confusion_matrix\n",
        "print(confusion_matrix(y_test, predict_nav))\n",
        "\n",
        "rand_clf = RandomForestClassifier()\n",
        "rand_clf.fit(X_train, y_train)\n",
        "predict = rand_clf.predict(X_test)\n",
        "print('random forest')\n",
        "print(accuracy_score(y_test, predict))\n",
        "print(confusion_matrix(y_test, predict))\n",
        "\n",
        "dt_clf = tree.DecisionTreeClassifier()\n",
        "dt_clf.fit(X_train, y_train)\n",
        "predict_dt = dt_clf.predict(X_test)\n",
        "print('decision tree')\n",
        "print(accuracy_score(y_test, predict_dt))\n",
        "print(confusion_matrix(y_test, predict_nav))\n",
        "\n",
        "from sklearn.ensemble import GradientBoostingClassifier\n",
        "grad_clf = GradientBoostingClassifier()\n",
        "grad_clf.fit(X_train, y_train)\n",
        "print('gradient boosting')\n",
        "predict_grad = grad_clf.predict(X_test)\n",
        "print(accuracy_score(y_test, predict_grad))\n",
        "print(confusion_matrix(y_test, predict_grad))"
      ],
      "execution_count": null,
      "outputs": []
    },
    {
      "cell_type": "code",
      "metadata": {
        "id": "wMRMyhuKxmOR",
        "colab_type": "code",
        "colab": {}
      },
      "source": [
        "log_reg = LogisticRegression()\n",
        "log_reg.fit(X_train, y_train)\n",
        "predict_log = log_reg.predict(X_test)\n",
        "accuracy_score(y_test, predict_log)"
      ],
      "execution_count": null,
      "outputs": []
    },
    {
      "cell_type": "code",
      "metadata": {
        "id": "E0ltyIhaxmOW",
        "colab_type": "code",
        "colab": {}
      },
      "source": [
        "print(confusion_matrix(y_test, predict_log))"
      ],
      "execution_count": null,
      "outputs": []
    },
    {
      "cell_type": "code",
      "metadata": {
        "id": "DtqBbva0xmOY",
        "colab_type": "code",
        "colab": {}
      },
      "source": [
        "from sklearn.metrics import roc_curve\n",
        "from sklearn.metrics import roc_auc_score\n",
        "\n",
        "print('Logistic Regression Score: ', roc_auc_score(y_test, p))\n",
        "print('Naive Bayes Score: ', roc_auc_score(y_test, predict_nav))\n",
        "print('Random Forest Score: ', roc_auc_score(y_test, predict))\n",
        "print('Decision Tree Score: ', roc_auc_score(y_test, predict_dt))\n",
        "print('Grad Boosting Score: ', roc_auc_score(y_test, predict_grad))"
      ],
      "execution_count": null,
      "outputs": []
    },
    {
      "cell_type": "code",
      "metadata": {
        "id": "r3UedLyNxmOb",
        "colab_type": "code",
        "colab": {}
      },
      "source": [
        "from sklearn.metrics import roc_curve\n",
        "\n",
        "log_fpr, log_tpr, threshold = roc_curve(y_test,p)\n",
        "nav_fpr, nav_tpr, threshold = roc_curve(y_test, predict_nav)\n",
        "rand_fpr, rand_tpr, thresold = roc_curve(y_test, predict)\n",
        "dt_fpr, dt_tpr, threshold = roc_curve(y_test, predict_dt)\n",
        "grad_fpr, grad_tpr, threshold = roc_curve(y_test, predict_grad)\n",
        "\n",
        "#nav_fpr, nav_tpr, nav_threshold = roc_curve(y_train, naives_y_scores)"
      ],
      "execution_count": null,
      "outputs": []
    },
    {
      "cell_type": "code",
      "metadata": {
        "id": "algcWvGtxmOf",
        "colab_type": "code",
        "colab": {}
      },
      "source": [
        "def graph_roc_curve_multiple(rand_fpr, rand_tpr, nav_fpr, nav_tpr,grad_fpr, grad_tpr, log_fpr, log_tpr, dt_fpr, dt_tpr):\n",
        "    plt.figure(figsize=(8,6))\n",
        "    plt.title('ROC Curve \\n Classifiers', fontsize=18)\n",
        "    plt.plot(rand_fpr, rand_tpr, label='random forest')\n",
        "    plt.plot(nav_fpr, nav_tpr, label='Naive Bayes')\n",
        "    plt.plot(grad_fpr, grad_tpr, label='Gradient Boosting')\n",
        "    plt.plot(log_fpr, log_tpr, label='Logistic Regression')\n",
        "    plt.plot(dt_fpr, dt_tpr, label='decision tree')\n",
        "    plt.plot([0, 1], [0, 1], 'k--')\n",
        "    plt.axis([0, 1, 0, 1])\n",
        "    plt.xlabel('False Positive Rate', fontsize=16)\n",
        "    plt.ylabel('True Positive Rate', fontsize=16)\n",
        "    plt.annotate('Minimum ROC Score of 50% \\n (This is the minimum score to get)', xy=(0.5, 0.5), xytext=(0.6, 0.3),\n",
        "                arrowprops=dict(facecolor='#6E726D', shrink=0.05),\n",
        "                )\n",
        "    plt.legend()\n",
        "    \n",
        "graph_roc_curve_multiple(rand_fpr, rand_tpr, nav_fpr, nav_tpr,grad_fpr, grad_tpr, log_fpr, log_tpr, dt_fpr, dt_tpr)\n",
        "plt.show()"
      ],
      "execution_count": null,
      "outputs": []
    },
    {
      "cell_type": "code",
      "metadata": {
        "id": "fWxdKVqQxmOi",
        "colab_type": "code",
        "colab": {}
      },
      "source": [
        "#BAG Of WORDS"
      ],
      "execution_count": null,
      "outputs": []
    },
    {
      "cell_type": "code",
      "metadata": {
        "id": "9f_IqoBYxmOm",
        "colab_type": "code",
        "colab": {}
      },
      "source": [
        "from sklearn.feature_extraction.text import CountVectorizer\n",
        "cv = CountVectorizer()\n",
        "X = cv.fit_transform(corpus)\n",
        "bow = pd.DataFrame(X.toarray(), columns = cv.get_feature_names())"
      ],
      "execution_count": null,
      "outputs": []
    },
    {
      "cell_type": "code",
      "metadata": {
        "id": "ZIExbbhoxmOp",
        "colab_type": "code",
        "colab": {}
      },
      "source": [
        "bow['labelxyz'] = list(ds.label)"
      ],
      "execution_count": null,
      "outputs": []
    },
    {
      "cell_type": "code",
      "metadata": {
        "id": "6lNlyvWXxmOy",
        "colab_type": "code",
        "colab": {}
      },
      "source": [
        "bow_hate = bow[bow.labelxyz == 1]\n",
        "bow_nonhate = bow[bow.labelxyz == 0]\n",
        "X_train_hate = bow_hate.sample(frac=0.9, random_state=0)\n",
        "X_test_hate = bow_hate.drop(X_train_hate.index)\n",
        "X_train_nonhate =  bow_nonhate.sample(frac=0.406, random_state=0)\n",
        "X_test_nonhate = bow_nonhate.drop(X_train_nonhate.index)\n",
        "X_train_df = pd.concat([X_train_hate, X_train_nonhate], axis = 0)\n",
        "X_train = X_train_df.drop(['labelxyz'], axis = 1)\n",
        "y_train = list(X_train_df.labelxyz)\n",
        "X_test_df = pd.concat([X_test_hate, X_test_nonhate], axis = 0)\n",
        "X_test = X_test_df.drop(['labelxyz'], axis = 1)\n",
        "y_test = list(X_test_df.labelxyz)"
      ],
      "execution_count": null,
      "outputs": []
    },
    {
      "cell_type": "code",
      "metadata": {
        "id": "IwdteiPJxmO1",
        "colab_type": "code",
        "colab": {}
      },
      "source": [
        "log_reg = LogisticRegression()\n",
        "log_reg.fit(X_train, y_train)"
      ],
      "execution_count": null,
      "outputs": []
    },
    {
      "cell_type": "code",
      "metadata": {
        "id": "1F4jEBgHxmO6",
        "colab_type": "code",
        "colab": {}
      },
      "source": [
        "tp = []\n",
        "tn = []\n",
        "overall_acc = []\n",
        "for i in range(100):\n",
        "    threshold = (i+1)/100\n",
        "    decisions = (log_reg.predict_proba(X_test) >= threshold).astype(int)\n",
        "    p = []\n",
        "    for j in range(len(y_test)):\n",
        "        p.append(1 - decisions[j][0])\n",
        "    conf = confusion_matrix(y_test,p)\n",
        "    tp.append(conf[0][0]/(conf[0][0] + conf[0][1]))\n",
        "    tn.append(conf[1][1]/(conf[1][1] + conf[1][0]))\n",
        "    overall_acc.append((conf[0][0] + conf[1][1])/len(y_test))"
      ],
      "execution_count": null,
      "outputs": []
    },
    {
      "cell_type": "code",
      "metadata": {
        "id": "-PdN3VRCxmPA",
        "colab_type": "code",
        "colab": {}
      },
      "source": [
        "import numpy as np\n",
        "thresh = list(np.linspace(0.01,1,100))\n",
        "plt.plot(thresh,tp,color='green')\n",
        "plt.plot(thresh, tn, color='red')\n",
        "plt.plot(thresh, overall_acc, color='black')\n",
        "#plt.axvline(0.6)\n",
        "plt.axvline(0.5, linestyle='dashed')"
      ],
      "execution_count": null,
      "outputs": []
    },
    {
      "cell_type": "code",
      "metadata": {
        "id": "8N0ilhBJxmPF",
        "colab_type": "code",
        "colab": {}
      },
      "source": [
        "from sklearn.metrics import accuracy_score\n",
        "nav_clf.fit(X_train, y_train)\n",
        "predict_nav = nav_clf.predict(X_test)\n",
        "print('naive bayes')\n",
        "print(accuracy_score(y_test, predict_nav))\n",
        "from sklearn.metrics import confusion_matrix\n",
        "print(confusion_matrix(y_test, predict_nav))\n",
        "\n",
        "rand_clf = RandomForestClassifier()\n",
        "rand_clf.fit(X_train, y_train)\n",
        "predict = rand_clf.predict(X_test)\n",
        "print('random forest')\n",
        "print(accuracy_score(y_test, predict))\n",
        "print(confusion_matrix(y_test, predict))\n",
        "\n",
        "dt_clf = tree.DecisionTreeClassifier()\n",
        "dt_clf.fit(X_train, y_train)\n",
        "predict_dt = dt_clf.predict(X_test)\n",
        "print('decision tree')\n",
        "print(accuracy_score(y_test, predict_dt))\n",
        "print(confusion_matrix(y_test, predict_nav))\n",
        "\n",
        "from sklearn.ensemble import GradientBoostingClassifier\n",
        "grad_clf = GradientBoostingClassifier()\n",
        "grad_clf.fit(X_train, y_train)\n",
        "print('gradient boosting')\n",
        "predict_grad = grad_clf.predict(X_test)\n",
        "print(accuracy_score(y_test, predict_grad))\n",
        "print(confusion_matrix(y_test, predict_grad))"
      ],
      "execution_count": null,
      "outputs": []
    },
    {
      "cell_type": "code",
      "metadata": {
        "id": "d4YNs0L1xmPK",
        "colab_type": "code",
        "colab": {}
      },
      "source": [
        "log_reg = LogisticRegression()\n",
        "log_reg.fit(X_train, y_train)\n",
        "predict_log = log_reg.predict(X_test)\n",
        "accuracy_score(y_test, predict_log)"
      ],
      "execution_count": null,
      "outputs": []
    },
    {
      "cell_type": "code",
      "metadata": {
        "id": "YjpdAp4txmPP",
        "colab_type": "code",
        "colab": {}
      },
      "source": [
        "print(confusion_matrix(y_test, predict_log))"
      ],
      "execution_count": null,
      "outputs": []
    },
    {
      "cell_type": "code",
      "metadata": {
        "id": "j8fAtykcxmPT",
        "colab_type": "code",
        "colab": {}
      },
      "source": [
        "y_train[-1]+5"
      ],
      "execution_count": null,
      "outputs": []
    },
    {
      "cell_type": "code",
      "metadata": {
        "id": "31SQtabDxmPX",
        "colab_type": "code",
        "colab": {}
      },
      "source": [
        "decisions = (log_reg.predict_proba(X_test) >= 0.5).astype(int)\n",
        "p = []\n",
        "for j in range(len(y_test)):\n",
        "    p.append(1 - decisions[j][0])\n",
        "from sklearn.metrics import roc_curve\n",
        "from sklearn.metrics import roc_auc_score\n",
        "\n",
        "print('Logistic Regression Score: ', roc_auc_score(y_test, p))\n",
        "print('Naive Bayes Score: ', roc_auc_score(y_test, predict_nav))\n",
        "print('Random Forest Score: ', roc_auc_score(y_test, predict))\n",
        "print('Decision Tree Score: ', roc_auc_score(y_test, predict_dt))\n",
        "print('Grad Boosting Score: ', roc_auc_score(y_test, predict_grad))\n"
      ],
      "execution_count": null,
      "outputs": []
    },
    {
      "cell_type": "code",
      "metadata": {
        "id": "EtV131-HxmPZ",
        "colab_type": "code",
        "colab": {}
      },
      "source": [
        "from sklearn.metrics import roc_curve\n",
        "\n",
        "log_fpr, log_tpr, threshold = roc_curve(y_test,p)\n",
        "nav_fpr, nav_tpr, threshold = roc_curve(y_test, predict_nav)\n",
        "rand_fpr, rand_tpr, thresold = roc_curve(y_test, predict)\n",
        "dt_fpr, dt_tpr, threshold = roc_curve(y_test, predict_dt)\n",
        "grad_fpr, grad_tpr, threshold = roc_curve(y_test, predict_grad)\n",
        "\n",
        "#nav_fpr, nav_tpr, nav_threshold = roc_curve(y_train, naives_y_scores)\n",
        "\n",
        "def graph_roc_curve_multiple(rand_fpr, rand_tpr, nav_fpr, nav_tpr,grad_fpr, grad_tpr, log_fpr, log_tpr, dt_fpr, dt_tpr):\n",
        "    plt.figure(figsize=(8,6))\n",
        "    plt.title('ROC Curve \\n Classifiers', fontsize=18)\n",
        "    plt.plot(rand_fpr, rand_tpr, label='random forest')\n",
        "    plt.plot(nav_fpr, nav_tpr, label='Naive Bayes')\n",
        "    plt.plot(grad_fpr, grad_tpr, label='Gradient Boosting')\n",
        "    plt.plot(log_fpr, log_tpr, label='Logistic Regression')\n",
        "    plt.plot(dt_fpr, dt_tpr, label='decision tree')\n",
        "    plt.plot([0, 1], [0, 1], 'k--')\n",
        "    plt.axis([0, 1, 0, 1])\n",
        "    plt.xlabel('False Positive Rate', fontsize=16)\n",
        "    plt.ylabel('True Positive Rate', fontsize=16)\n",
        "    plt.annotate('Minimum ROC Score of 50% \\n (This is the minimum score to get)', xy=(0.5, 0.5), xytext=(0.6, 0.3),\n",
        "                arrowprops=dict(facecolor='#6E726D', shrink=0.05),\n",
        "                )\n",
        "    plt.legend()\n",
        "    \n",
        "graph_roc_curve_multiple(rand_fpr, rand_tpr, nav_fpr, nav_tpr,grad_fpr, grad_tpr, log_fpr, log_tpr, dt_fpr, dt_tpr)\n",
        "plt.show()"
      ],
      "execution_count": null,
      "outputs": []
    },
    {
      "cell_type": "code",
      "metadata": {
        "id": "EjF9E2l_xmPb",
        "colab_type": "code",
        "colab": {}
      },
      "source": [
        ""
      ],
      "execution_count": null,
      "outputs": []
    }
  ]
}